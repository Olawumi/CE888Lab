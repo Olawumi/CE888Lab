{
  "nbformat": 4,
  "nbformat_minor": 0,
  "metadata": {
    "colab": {
      "name": "Lab2_bootstrap.ipynb",
      "provenance": [],
      "collapsed_sections": [],
      "include_colab_link": true
    },
    "kernelspec": {
      "display_name": "Python 3",
      "language": "python",
      "name": "python3"
    },
    "language_info": {
      "codemirror_mode": {
        "name": "ipython",
        "version": 3
      },
      "file_extension": ".py",
      "mimetype": "text/x-python",
      "name": "python",
      "nbconvert_exporter": "python",
      "pygments_lexer": "ipython3",
      "version": "3.7.6"
    },
    "pycharm": {
      "stem_cell": {
        "cell_type": "raw",
        "metadata": {
          "collapsed": false
        },
        "source": []
      }
    }
  },
  "cells": [
    {
      "cell_type": "markdown",
      "metadata": {
        "id": "view-in-github",
        "colab_type": "text"
      },
      "source": [
        "<a href=\"https://colab.research.google.com/github/Olawumi/CE888Lab/blob/main/Lab2/Lab2_bootstrap.ipynb\" target=\"_parent\"><img src=\"https://colab.research.google.com/assets/colab-badge.svg\" alt=\"Open In Colab\"/></a>"
      ]
    },
    {
      "cell_type": "markdown",
      "metadata": {
        "id": "nCi_99yMYIb1"
      },
      "source": [
        "In this notebook you'll create your own bootstrap function following the bootstrap algorithm (check the lecture notes!)"
      ]
    },
    {
      "cell_type": "markdown",
      "metadata": {
        "id": "__lRpSsD5OlG"
      },
      "source": [
        "# New Section"
      ]
    },
    {
      "cell_type": "markdown",
      "metadata": {
        "id": "3xSvszKt5PPF"
      },
      "source": [
        "# New Section"
      ]
    },
    {
      "cell_type": "code",
      "metadata": {
        "id": "LY5zujI2YC37",
        "pycharm": {
          "name": "#%%# Imports\n"
        }
      },
      "source": [
        "import matplotlib\n",
        "import pandas as pd\n",
        "import seaborn as sns\n",
        "import numpy as np\n",
        "import random\n",
        "\n"
      ],
      "execution_count": 1,
      "outputs": []
    },
    {
      "cell_type": "code",
      "metadata": {
        "id": "Eqkwj4SMY38t"
      },
      "source": [
        "# Load the data\n",
        "df = pd.read_csv('https://raw.githubusercontent.com/albanda/CE888/master/lab2%20-%20bootstrap/customers.csv')\n",
        "data = df.values.T[1]\n",
        "\n",
        "#print(df.columns)\n",
        "#x = data \n",
        "#sample_size = len(data)\n",
        "#df.columns"
      ],
      "execution_count": 2,
      "outputs": []
    },
    {
      "cell_type": "code",
      "metadata": {
        "id": "Gxvc_bScYC4H",
        "pycharm": {
          "name": "#%%\n"
        }
      },
      "source": [
        "# Checking the notes from the lecture, create here your own bootstrap function:\n",
        "# 1. Sample from the input array x to create an array of samples of shape (n_bootstraps, sample_size)\n",
        "# Hint: Check the function random.choice() on Numpy\n",
        "# 2. Calculate and save the mean of the array (this is \"data_mean\" that is returned by the function)\n",
        "# 3. Calculate the mean from each bootstrap (i.e., row) and store it.\n",
        "# (This should be an array of n_bootstraps values)\n",
        "# 4. Calculate the lower and upper bounds for a 95% CI (hint: check the percentile function on Numpy)\n",
        "# 5. Return data_mean, and the lower and upper bounds of your interval\n",
        "def bootstrap_mean(x, sample_size, n_bootstraps):\n",
        "  #replication = np.array([np.random.choice(x, sample_size, replace=True) for i in range(n_bootstraps)])\n",
        "  replication = np.random.choice(x, (n_bootstraps, sample_size))\n",
        "  #print('this is it', replication)\n",
        "  #dat_min = []\n",
        "  data_mean_array = np.mean(replication, axis=1)\n",
        "  #print('data mean', data_mean_array)\n",
        "  data_mean = data_mean_array.mean()\n",
        "\n",
        "  lower = np.percentile(data_mean_array, 2.5)\n",
        "  upper = np.percentile(data_mean_array, 97.5)\n",
        "  #mean of all bootstraps means values\n",
        "  \n",
        "  #data_mean  = np.sort(data_mean)\n",
        "  #data_mean = np.sort(data_mean)\n",
        "  return data_mean, lower, upper\n",
        "#print(bootstrap_mean(data, 14, 1000))\n"
      ],
      "execution_count": 4,
      "outputs": []
    },
    {
      "cell_type": "code",
      "metadata": {
        "id": "AN7sEOcMYC4P",
        "pycharm": {
          "name": "#%%\n"
        },
        "colab": {
          "base_uri": "https://localhost:8080/",
          "height": 455
        },
        "outputId": "356fb159-a0b6-4ca7-b7fa-3f7e92ac0fa0"
      },
      "source": [
        "# Call your bootstrap function and plot the results\n",
        "\n",
        "boots = []\n",
        "for i in range(100, 50000, 1000):\n",
        "    boot = bootstrap_mean(data, data.shape[0], i)\n",
        "    boots.append([i, boot[0], \"mean\"])\n",
        "    boots.append([i, boot[1], \"lower\"])\n",
        "    boots.append([i, boot[2], \"upper\"])\n",
        "\n",
        "df_boot = pd.DataFrame(boots, columns=['Bootstrap Iterations', 'Mean', \"Value\"])\n",
        "\n",
        "df_boot.head()\n",
        "sns_plot = sns.lmplot(df_boot.columns[0], df_boot.columns[1], data=df_boot, fit_reg=False, hue=\"Value\")\n",
        "\n",
        "sns_plot.axes[0, 0].set_ylim(0, )\n",
        "sns_plot.axes[0, 0].set_xlim(0, 100000)\n"
      ],
      "execution_count": 5,
      "outputs": [
        {
          "output_type": "stream",
          "text": [
            "/usr/local/lib/python3.6/dist-packages/seaborn/_decorators.py:43: FutureWarning: Pass the following variables as keyword args: x, y. From version 0.12, the only valid positional argument will be `data`, and passing other arguments without an explicit keyword will result in an error or misinterpretation.\n",
            "  FutureWarning\n"
          ],
          "name": "stderr"
        },
        {
          "output_type": "execute_result",
          "data": {
            "text/plain": [
              "(0.0, 100000.0)"
            ]
          },
          "metadata": {
            "tags": []
          },
          "execution_count": 5
        },
        {
          "output_type": "display_data",
          "data": {
            "image/png": "[encoded data removed]",
            "text/plain": [
              "<Figure size 425.125x360 with 1 Axes>"
            ]
          },
          "metadata": {
            "tags": [],
            "needs_background": "light"
          }
        }
      ]
    },
    {
      "cell_type": "markdown",
      "metadata": {
        "id": "MjtP4e2_YC4V"
      },
      "source": [
        "\n",
        "Now, modify the bootstrap function you created above so that you can pass your desired confidence interval as a parameter.\n",
        "\n"
      ]
    },
    {
      "cell_type": "code",
      "metadata": {
        "id": "l8RGcJaJWWmD"
      },
      "source": [
        ""
      ],
      "execution_count": null,
      "outputs": []
    },
    {
      "cell_type": "code",
      "metadata": {
        "id": "3K9j0FuGYhHs"
      },
      "source": [
        "def bootstrap_mean_ci(sample, sample_size, n_bootstraps, ci):\n",
        " \n",
        "\t# <---INSERT YOUR CODE HERE--->\n",
        "  #replication = np.array([np.random.choice(sample, sample_size, replace=True) for i in range(n_bootstraps)])\n",
        "  #print('this is', replication)\n",
        "  replication = np.random.choice(sample, (n_bootstraps, sample_size)) \n",
        "  arr_mean = []\n",
        "  \n",
        "\n",
        "  data_mean_array = np.mean(replication, axis=1)\n",
        "  #print('data mean', data_mean_array)\n",
        "  data_mean = data_mean_array.mean()\n",
        "  lower = np.percentile(data_mean_array, (100-ci)/2)\n",
        "  upper = np.percentile(data_mean_array, (100-ci)/2 + ci)\n",
        "  #mean of all bootstraps means values\n",
        "  #data_mean = data_mean_array.mean()\n",
        "  #print(replication)\n",
        "  return data_mean, lower, upper\n"
      ],
      "execution_count": 6,
      "outputs": []
    },
    {
      "cell_type": "code",
      "metadata": {
        "id": "uDnjq08GYl-C",
        "colab": {
          "base_uri": "https://localhost:8080/",
          "height": 438
        },
        "outputId": "5b3b1cf7-43e9-4653-d280-5ad847be9eb7"
      },
      "source": [
        "boots = []\n",
        "for i in range(100, 50000, 1000):\n",
        "    boot = bootstrap_mean_ci(data, data.shape[0], i, 80)\n",
        "    boots.append([i, boot[0], \"mean\"])\n",
        "    boots.append([i, boot[1], \"lower\"])\n",
        "    boots.append([i, boot[2], \"upper\"])\n",
        "\n",
        "df_boot = pd.DataFrame(boots, columns=['Boostrap Iterations', 'Mean', \"Value\"])\n",
        "sns_plot = sns.lmplot(df_boot.columns[0], df_boot.columns[1], data=df_boot, fit_reg=False, hue=\"Value\")\n",
        "\n",
        "sns_plot.axes[0, 0].set_ylim(0,)\n",
        "sns_plot.axes[0, 0].set_xlim(0, 100000)\n",
        "\n",
        "sns_plot.savefig(\"bootstrap_confidence_80.pdf\", bbox_inches='tight')\n"
      ],
      "execution_count": 7,
      "outputs": [
        {
          "output_type": "stream",
          "text": [
            "/usr/local/lib/python3.6/dist-packages/seaborn/_decorators.py:43: FutureWarning: Pass the following variables as keyword args: x, y. From version 0.12, the only valid positional argument will be `data`, and passing other arguments without an explicit keyword will result in an error or misinterpretation.\n",
            "  FutureWarning\n"
          ],
          "name": "stderr"
        },
        {
          "output_type": "display_data",
          "data": {
            "image/png": "[encoded data removed]",
            "text/plain": [
              "<Figure size 425.125x360 with 1 Axes>"
            ]
          },
          "metadata": {
            "tags": [],
            "needs_background": "light"
          }
        }
      ]
    },
    {
      "cell_type": "markdown",
      "metadata": {
        "id": "qjNgXW6wdd7r"
      },
      "source": [
        "# Vehicles dataset\n",
        "\n",
        "Now let's work on a different dataset, which is stored in the vehicles.csv file.\n"
      ]
    },
    {
      "cell_type": "code",
      "metadata": {
        "id": "avWv4ipFdpka",
        "colab": {
          "base_uri": "https://localhost:8080/",
          "height": 297
        },
        "outputId": "0fafadc7-743a-4ee7-b80d-9a9f3a3a13d3"
      },
      "source": [
        "# Load and visualise the vehicles dataset\n",
        "# To load the dataset: https://neptune.ai/blog/google-colab-dealing-with-files (check section \"Load individual files directly from GitHub\")\n",
        "#!git clone https://raw.githubusercontent.com/albanda/CE888/master/lab2%20-%20bootstrap/vehicles.csv.git\n",
        "\n",
        "# Note that the current and new fleets are in different columns and have different lengths, so bear this in mind when you're plotting.\n",
        "# You can create separate scatterplots for the two fleets, as you would with the histograms, \n",
        "# or plot them both in one plot (but not one against the other).\n",
        "# <---INSERT YOUR CODE HERE--->\n",
        "\n",
        "\n",
        "df = pd.read_csv('https://raw.githubusercontent.com/albanda/CE888/master/lab2%20-%20bootstrap/vehicles.csv')\n",
        "#print(len(df))\n",
        "\n",
        "\n",
        "#df.describe()\n",
        "df.dropna(subset = [\"New Fleet\"], inplace= True)\n",
        "\n",
        "current_data = df.values.T[0]\n",
        "#print(current_data)\n",
        "curr_d = pd.Series(current_data, name=\"Current Fleet\" )\n",
        "#current_d = sns.displot(curr_d)\n",
        "cf_df = pd.DataFrame(current_data)\n",
        "#cd = cd.assign(New_ID=[0 + i for i in range(len(cd))])[['New_ID'] + cd.columns.tolist()]\n",
        "cf_df.insert(0, 'Current fleet ID', range(0, 0 + len(cf_df)))\n",
        "cf_df.rename({0: 'Current fleet'}, axis=1, inplace=True)\n",
        "cf_df.head()\n",
        "\n",
        "sns.scatterplot(data = cf_df, x=\"Current fleet\", y=\"Current fleet ID\")\n",
        "\n",
        "#current_data\n",
        "#new_data = df.values.T[1]\n",
        "#new_data\n",
        "\n",
        "\n",
        "\n",
        "#data = df.values.T[1]\n",
        "# Note: you can add more cells as needed to organise your code and your plots\n"
      ],
      "execution_count": 8,
      "outputs": [
        {
          "output_type": "execute_result",
          "data": {
            "text/plain": [
              "<matplotlib.axes._subplots.AxesSubplot at 0x7f62dc27eb70>"
            ]
          },
          "metadata": {
            "tags": []
          },
          "execution_count": 8
        },
        {
          "output_type": "display_data",
          "data": {
            "image/png": "[encoded data removed]",
            "text/plain": [
              "<Figure size 432x288 with 1 Axes>"
            ]
          },
          "metadata": {
            "tags": [],
            "needs_background": "light"
          }
        }
      ]
    },
    {
      "cell_type": "code",
      "metadata": {
        "colab": {
          "base_uri": "https://localhost:8080/",
          "height": 297
        },
        "id": "klKHvf3xXOgp",
        "outputId": "a400a338-48ea-4afb-888e-87c3fb005120"
      },
      "source": [
        "new_data = df.values.T[1]\r\n",
        "#print(new_data)\r\n",
        "nf_df  = pd.DataFrame(new_data)\r\n",
        "nf_df.insert(0, 'New fleet ID', range(0, 0 + len( nf_df)))\r\n",
        "nf_df.rename({0:'New fleet'}, axis=1, inplace=True)\r\n",
        "#len(new_data)\r\n",
        "sns.scatterplot(data = nf_df, x=\"New fleet\", y=\"New fleet ID\")\r\n",
        "#nf_df.head()\r\n",
        "\r\n"
      ],
      "execution_count": 9,
      "outputs": [
        {
          "output_type": "execute_result",
          "data": {
            "text/plain": [
              "<matplotlib.axes._subplots.AxesSubplot at 0x7f62dc781080>"
            ]
          },
          "metadata": {
            "tags": []
          },
          "execution_count": 9
        },
        {
          "output_type": "display_data",
          "data": {
            "image/png": "[encoded data removed]",
            "text/plain": [
              "<Figure size 432x288 with 1 Axes>"
            ]
          },
          "metadata": {
            "tags": [],
            "needs_background": "light"
          }
        }
      ]
    },
    {
      "cell_type": "code",
      "metadata": {
        "colab": {
          "base_uri": "https://localhost:8080/"
        },
        "id": "sKmLgPmZPWb_",
        "outputId": "4b671b84-cd9f-492b-c08a-b8d27db9be27"
      },
      "source": [
        "! git clone www.github.com/albandaa/CE888/blob/master/lab2%20-%20bootstrap/vehicles.csv.git"
      ],
      "execution_count": null,
      "outputs": [
        {
          "output_type": "stream",
          "text": [
            "fatal: repository 'www.github.com/albandaa/CE888/blob/master/lab2%20-%20bootstrap/vehicles.csv.git' does not exist\n"
          ],
          "name": "stdout"
        }
      ]
    },
    {
      "cell_type": "markdown",
      "metadata": {
        "id": "B5d0tXDpIEj8"
      },
      "source": [
        "## Compare the two fleets\r\n",
        "\r\n",
        "The business analysts come up a comparison algorithm that requires the upper and lower bounds for the mean in order to say which fleet is better.\r\n",
        "1. Calculate the mean of both samples.\r\n",
        "2. Using the bootstrap function that you created:\r\n",
        "    - Construct the 95% CI of the mean of the current fleet.\r\n",
        "    - Construct the 95% CI of the mean of the new fleet.\r\n",
        "    - Are they comparable? (i.e., is one better than the other?) -- you can do this with a permutation test (check the lecture notes!)"
      ]
    },
    {
      "cell_type": "code",
      "metadata": {
        "id": "po4mp6zRHC0m",
        "colab": {
          "base_uri": "https://localhost:8080/"
        },
        "outputId": "b763316a-6a47-4e69-ba11-558d328508da"
      },
      "source": [
        "# <---INSERT YOUR CODE HERE--->\n",
        "# current data mean calculation\n",
        "dem_PA = np.array([60.08, 40.64, 36.07, 41.21, 31.04, 43.78, 44.08, 46.85, 44.71, 46.15, \n",
        "                63.10, 52.20, 43.18, 40.24, 39.92, 47.87, 37.77, 40.11, 49.85, 48.61, 38.62, \n",
        "                54.25, 34.84, 47.75, 43.82, 55.97, 58.23, 42.97, 42.38, 36.11, 37.53, 42.65, 50.96, 47.43,\n",
        "                56.24, 45.60, 46.39, 35.22, 48.56, 32.97, 57.88, 36.05, 37.72, 50.36, 32.12, 41.55, 54.66, 57.81, \n",
        "                54.58, 32.88, 54.37, 40.45, 47.61, 60.49, 43.11, 27.32, 44.03, 33.56, 37.26, 54.64, 43.12, 25.34, 49.79, \n",
        "                83.56, 40.09, 60.81, 49.81])\n",
        "dem_OH = np.array([56.94, 50.46, 65.99, 45.88, 42.23, 45.26, 57.01, 53.61, 59.10, 61.48, 43.43, 44.69, 54.59, 48.36, 45.89, 48.62, 43.92, 38.23, 28.79, 63.57, 38.07, 40.18, 43.05, 41.56, 42.49, 36.06, 52.76, 46.07, 39.43, 39.26, 47.47, 27.92, 38.01, 45.45, 29.07, 28.94, 51.28, 50.10, 39.84, 36.43, 35.71, 31.47, 47.01, 40.10, 48.76, 31.56, 39.86, 45.31, 35.47, 51.38, 46.33, 48.73, 41.77, 41.32, 48.46, 53.14,34.01, 54.74, 40.67, 38.96, 46.29, 38.25, 6.80, 31.75, 46.33, 44.90, 33.57, 38.10, 39.67, 40.47,\n",
        "                49.44, 37.62, 36.71, 46.73, 42.20, 53.16, 52.40, 58.36, 68.02, 38.53, 34.58, 69.64, 60.50, 53.53, \n",
        "                36.54, 49.58, 41.97, 38.11])\n",
        "datar = cf_df.values.T[1]\n",
        "current_fleet_mean = np.mean(datar)\n",
        "#print(current_fleet_mean)\n",
        "\n",
        "new_data = df.values.T[1]\n",
        "new_fleet_mean = np.mean(new_data)\n",
        "#print(new_fleet_mean)\n",
        "\n",
        "#ci_current_fleet_mean = bootstrap_mean_ci(datar, datar.shape[0], 10000, 90)\n",
        "#print(ci_current_fleet_mean)\n",
        "    \n",
        "ci_new_fleet_mean = bootstrap_mean_ci(new_data, new_data.shape[0], 10000, 95)\n",
        "print(ci_new_fleet_mean)\n",
        "\n",
        "#demPA = np.mean(dem_share_PA)\n",
        "#print(dem)\n",
        "#demOH = np.mean(dem_share_OH)\n",
        "#print(demOH)\n",
        "#print(demPA - demOH)\n",
        "#df_curr_fl = pd.DataFrame(curr_fleet, columns=['Vehicle Boostrap Iterations', 'Mean', \"Value\"])\n",
        "#df_curr_fl\n",
        "#sns_plot = sns.lmplot(df_curr_fl.columns[0], df_curr_fl.columns[1], data=df_curr_fl, fit_reg=False, hue=\"Value\")\n",
        "#sns_plot.axes[0, 0].set_ylim(0,)\n",
        "#sns_plot.axes[0, 0].set_xlim(0, 100000)\n",
        "\n",
        "#sns_plot.savefig(\"bootstrap_confidence_95.pdf\", bbox_inches='tight')\n",
        "  \n"
      ],
      "execution_count": 13,
      "outputs": [
        {
          "output_type": "stream",
          "text": [
            "(30.48442658227848, 29.164240506329115, 31.82278481012658)\n"
          ],
          "name": "stdout"
        }
      ]
    },
    {
      "cell_type": "code",
      "metadata": {
        "id": "MkxvDZG4HC0n",
        "colab": {
          "base_uri": "https://localhost:8080/"
        },
        "outputId": "e72da292-eecb-481e-cd0d-56104b30f42d"
      },
      "source": [
        "# Create your own function for a permutation test here (you will need it for the lab quiz!):\n",
        "current_arr = current_data\n",
        "new_arr =  new_data\n",
        "\n",
        "def permut_test(sample1, sample2, n_permutations):\n",
        "\n",
        "    \"\"\"\n",
        "    sample1: 1D array\n",
        "    sample2: 1D array (note that the size of the two arrays can be different)\n",
        "    n_permutations: number of permutations to calculate the p-value\n",
        "    \"\"\"\n",
        "    sample1_mean = np.mean(sample1)\n",
        "    sample2_mean = np.mean(sample2)\n",
        "    observed_sample =  sample2_mean - sample1_mean\n",
        "    \n",
        "    sample1_perm = sample1\n",
        "    sample2_perm  = sample2\n",
        "\n",
        "    count = 0\n",
        "    for rep in range(n_permutations):\n",
        "      concart  = np.concatenate((sample1_perm, sample2_perm))\n",
        "      permut = np.random.permutation(concart)\n",
        "      sample1_perm  = permut[: np.size(sample1)]\n",
        "      sample2_perm = permut[ np.size(sample2):]\n",
        "      tperm = np.mean(sample2_perm) - np.mean(sample1_perm)\n",
        "\n",
        "      if tperm > observed_sample:\n",
        "        count = count + 1\n",
        "    pvalue = count/n_permutations\n",
        "    return pvalue\n",
        "#permut_test(dem_OH,dem_PA, 20000)\n",
        "permut_test(current_arr,new_arr, 20000)"
      ],
      "execution_count": 29,
      "outputs": [
        {
          "output_type": "execute_result",
          "data": {
            "text/plain": [
              "0.0"
            ]
          },
          "metadata": {
            "tags": []
          },
          "execution_count": 29
        }
      ]
    },
    {
      "cell_type": "code",
      "metadata": {
        "colab": {
          "base_uri": "https://localhost:8080/"
        },
        "id": "nmorjZVHMdCS",
        "outputId": "a4edaa98-915b-4002-d781-becfc57d6683"
      },
      "source": [
        "bootstrap_mean_ci(current_data , current_data .shape[0], 10000, 92)\r\n",
        "\r\n"
      ],
      "execution_count": null,
      "outputs": [
        {
          "output_type": "execute_result",
          "data": {
            "text/plain": [
              "(16.026655696202532, 15.227848101265824, 16.860759493670887)"
            ]
          },
          "metadata": {
            "tags": []
          },
          "execution_count": 56
        }
      ]
    },
    {
      "cell_type": "code",
      "metadata": {
        "id": "Js7ZSGuwTYoD"
      },
      "source": [
        "def bootstrap_std_ci(sample, sample_size, n_bootstraps, ci):\r\n",
        " \r\n",
        "\t# <---INSERT YOUR CODE HERE--->\r\n",
        "  #replication = np.array([np.random.choice(sample, sample_size, replace=True) for i in range(n_bootstraps)])\r\n",
        "  #print('this is', replication)\r\n",
        "  replication = np.random.choice(sample, (n_bootstraps, sample_size)) \r\n",
        "\r\n",
        "  \r\n",
        "\r\n",
        "  std_array = np.std(replication, axis=1)\r\n",
        "  #print('data mean', data_mean_array)\r\n",
        "  std_arr =  std_array.std()\r\n",
        "  lower = np.percentile(std_array, (100-ci)/2)\r\n",
        "  upper = np.percentile(std_array, (100-ci)/2 + ci)\r\n",
        "  #mean of all bootstraps means values\r\n",
        "  #data_mean = data_mean_array.mean()\r\n",
        "  #print(replication)\r\n",
        "  return std_arr, lower, upper"
      ],
      "execution_count": 17,
      "outputs": []
    },
    {
      "cell_type": "code",
      "metadata": {
        "colab": {
          "base_uri": "https://localhost:8080/"
        },
        "id": "scSCB_3QY6-j",
        "outputId": "631f548e-1af5-4ca0-93e9-673ec5e736bf"
      },
      "source": [
        "bootstrap_std_ci(current_data , current_data .shape[0], 10000, 73)"
      ],
      "execution_count": 16,
      "outputs": [
        {
          "output_type": "execute_result",
          "data": {
            "text/plain": [
              "(0.3783832581008067, 3.1182474159330438, 5.044007094310006)"
            ]
          },
          "metadata": {
            "tags": []
          },
          "execution_count": 16
        }
      ]
    },
    {
      "cell_type": "code",
      "metadata": {
        "id": "DUduFEGttC2B"
      },
      "source": [
        "def bootstrap_mean_ci(sample, sample_size, n_bootstraps, ci):\r\n",
        " \r\n",
        "\t# <---INSERT YOUR CODE HERE--->\r\n",
        "  #replication = np.array([np.random.choice(sample, sample_size, replace=True) for i in range(n_bootstraps)])\r\n",
        "  #print('this is', replication)\r\n",
        "  replication = np.random.choice(sample, (n_bootstraps, sample_size)) \r\n",
        "  arr_mean = []\r\n",
        "  \r\n",
        "\r\n",
        "  data_mean_array = np.mean(replication, axis=1)\r\n",
        "  #print('data mean', data_mean_array)\r\n",
        "  data_mean = data_mean_array.mean()\r\n",
        "  lower = np.percentile(data_mean_array, (100-ci)/2)\r\n",
        "  upper = np.percentile(data_mean_array, (100-ci)/2 + ci)\r\n",
        "  #mean of all bootstraps means values\r\n",
        "  #data_mean = data_mean_array.mean()\r\n",
        "  #print(replication)\r\n",
        "  return data_mean, lower, upper"
      ],
      "execution_count": null,
      "outputs": []
    },
    {
      "cell_type": "code",
      "metadata": {
        "colab": {
          "base_uri": "https://localhost:8080/"
        },
        "id": "gONq91MJt2x5",
        "outputId": "4c3aeb24-ccf1-4772-afa6-f106adb27704"
      },
      "source": [
        "bootstrap_mean_ci(dem_PA, dem_PA.shape[0], 25000, 90)"
      ],
      "execution_count": 11,
      "outputs": [
        {
          "output_type": "execute_result",
          "data": {
            "text/plain": [
              "(45.49652013731344, 43.546261194029846, 47.520522388059696)"
            ]
          },
          "metadata": {
            "tags": []
          },
          "execution_count": 11
        }
      ]
    },
    {
      "cell_type": "code",
      "metadata": {
        "colab": {
          "base_uri": "https://localhost:8080/"
        },
        "id": "c-imlMmAPGha",
        "outputId": "c7b2de60-d520-4a5a-add2-d7dd4ef0094f"
      },
      "source": [
        "dem_PA = np.array([60.08, 40.64, 36.07, 41.21, 31.04, 43.78, 44.08, 46.85, 44.71, 46.15, \r\n",
        "                63.10, 52.20, 43.18, 40.24, 39.92, 47.87, 37.77, 40.11, 49.85, 48.61, 38.62, \r\n",
        "                54.25, 34.84, 47.75, 43.82, 55.97, 58.23, 42.97, 42.38, 36.11, 37.53, 42.65, 50.96, 47.43,\r\n",
        "                56.24, 45.60, 46.39, 35.22, 48.56, 32.97, 57.88, 36.05, 37.72, 50.36, 32.12, 41.55, 54.66, 57.81, \r\n",
        "                54.58, 32.88, 54.37, 40.45, 47.61, 60.49, 43.11, 27.32, 44.03, 33.56, 37.26, 54.64, 43.12, 25.34, 49.79, \r\n",
        "                83.56, 40.09, 60.81, 49.81])\r\n",
        "dem_OH = np.array([56.94, 50.46, 65.99, 45.88, 42.23, 45.26, 57.01, 53.61, 59.10, 61.48, 43.43, 44.69, 54.59, 48.36, 45.89, 48.62, 43.92, 38.23, 28.79, 63.57, 38.07, 40.18, 43.05, 41.56, 42.49, 36.06, 52.76, 46.07, 39.43, 39.26, 47.47, 27.92, 38.01, 45.45, 29.07, 28.94, 51.28, 50.10, 39.84, 36.43, 35.71, 31.47, 47.01, 40.10, 48.76, 31.56, 39.86, 45.31, 35.47, 51.38, 46.33, 48.73, 41.77, 41.32, 48.46, 53.14,34.01, 54.74, 40.67, 38.96, 46.29, 38.25, 6.80, 31.75, 46.33, 44.90, 33.57, 38.10, 39.67, 40.47,\r\n",
        "                49.44, 37.62, 36.71, 46.73, 42.20, 53.16, 52.40, 58.36, 68.02, 38.53, 34.58, 69.64, 60.50, 53.53, \r\n",
        "                36.54, 49.58, 41.97, 38.11])\r\n",
        "\r\n",
        "bootstrap_mean_ci(dem_PA , dem_PA.shape[0], 100000, 98)"
      ],
      "execution_count": 27,
      "outputs": [
        {
          "output_type": "execute_result",
          "data": {
            "text/plain": [
              "(45.47747530895522, 42.7952208955224, 48.32418358208955)"
            ]
          },
          "metadata": {
            "tags": []
          },
          "execution_count": 27
        }
      ]
    },
    {
      "cell_type": "code",
      "metadata": {
        "colab": {
          "base_uri": "https://localhost:8080/"
        },
        "id": "AzSZ-P_MsPs-",
        "outputId": "4a5ba962-b648-4e83-cb52-a69a03b15415"
      },
      "source": [
        "permut_test(dem_OH, dem_PA, 30000)"
      ],
      "execution_count": 31,
      "outputs": [
        {
          "output_type": "execute_result",
          "data": {
            "text/plain": [
              "0.11473333333333334"
            ]
          },
          "metadata": {
            "tags": []
          },
          "execution_count": 31
        }
      ]
    },
    {
      "cell_type": "code",
      "metadata": {
        "colab": {
          "base_uri": "https://localhost:8080/"
        },
        "id": "OhRmeP95n5CZ",
        "outputId": "31f107e0-45ef-491d-e3fa-2715e9f3bf36"
      },
      "source": [
        "#demPA = np.mean(dem_PA)\r\n",
        "#print(demPA)\r\n",
        "#demOH = np.mean(dem_OH)\r\n",
        "#print(demOH)\r\n",
        "print(\"PA\", len(dem_PA))\r\n",
        "print(\"OH\", len(dem_OH))"
      ],
      "execution_count": 25,
      "outputs": [
        {
          "output_type": "stream",
          "text": [
            "PA 67\n",
            "OH 88\n"
          ],
          "name": "stdout"
        }
      ]
    }
  ]
}